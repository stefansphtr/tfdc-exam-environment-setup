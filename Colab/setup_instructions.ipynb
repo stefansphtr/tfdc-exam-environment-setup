{
 "cells": [
  {
   "cell_type": "markdown",
   "metadata": {},
   "source": [
    "# TensorFlow Developer Certification Exam Preparation Guide to run in Google Colab"
   ]
  },
  {
   "cell_type": "markdown",
   "metadata": {},
   "source": [
    "## Preparation to setup the Google Colab for the TensorFlow Developer Certification Exam"
   ]
  },
  {
   "cell_type": "markdown",
   "metadata": {},
   "source": [
    "### Setup Environment"
   ]
  },
  {
   "cell_type": "markdown",
   "metadata": {},
   "source": [
    "---\n",
    "\n",
    "This code block is used to set up a specific version of Python (3.8) in the current Google Colab environment using Miniconda, a smaller version of Anaconda that includes only conda and its dependencies. After setting up the environment, it also prints out the current Python version and installs a specific version of protobuf (3.20.3).\n",
    "\n",
    "Here's a step-by-step explanation of what each line does:\n",
    "\n",
    "1. `!wget -O mini.sh https://repo.anaconda.com/miniconda/Miniconda3-py38_4.8.2-Linux-x86_64.sh`: This line downloads the Miniconda installation script for Python 3.8 from the official Anaconda repository and saves it as `mini.sh`.\n",
    "\n",
    "2. `!chmod +x mini.sh`: This line changes the permissions of the `mini.sh` file to make it executable.\n",
    "\n",
    "3. `!bash ./mini.sh -b -f -p /usr/local`: This line runs the `mini.sh` script to install Miniconda. The `-b` option tells the script to run in batch mode, which prevents it from prompting for user input. The `-f` option tells the script to force installation even if there are existing files. The `-p /usr/local` option specifies the installation location.\n",
    "\n",
    "4. `!conda install -q -y jupyter`: This line uses conda to install Jupyter. The `-q` option tells conda to run in quiet mode, which reduces the amount of output. The `-y` option tells conda to assume \"yes\" for all prompts, which allows the installation to proceed without user input.\n",
    "\n",
    "5. `!conda install -q -y google-colab -c conda-forge`: This line uses conda to install the `google-colab` package from the `conda-forge` channel. The `google-colab` package is necessary to run Colab notebooks.\n",
    "\n",
    "6. `!python -m ipykernel install --name \"py38\" --user`: This line installs a new IPython kernel named \"py38\" for the installed Python 3.8. This allows Jupyter to use Python 3.8.\n",
    "\n",
    "7. `import sys` and `print(f\"Current Python Version: {sys.version}\")`: These lines print out the current Python version.\n",
    "\n",
    "8. `!pip install -q protobuf==3.20.3`: This line installs a specific version of protobuf (3.20.3).\n",
    "\n",
    "**After running this code**, you should **restart the runtime and change the runtime type to use the newly installed Python 3.8**. You can **do this by going to Runtime > Change runtime type and selecting \"py38\"**.\n",
    "\n",
    "Please note that this method of changing the Python version in Google Colab is a workaround and may lead to unexpected issues. It's generally recommended to write your code in a way that it can run on the default Python version provided by Google Colab (currently Python 3.7).\n",
    "\n",
    "---"
   ]
  },
  {
   "cell_type": "code",
   "execution_count": null,
   "metadata": {},
   "outputs": [],
   "source": [
    "# Download the Miniconda installation script for Python 3.8\n",
    "!wget -q -O mini.sh https://repo.anaconda.com/miniconda/Miniconda3-py38_4.8.2-Linux-x86_64.sh && echo \"Downloaded Miniconda installation script\"\n",
    "\n",
    "# Change the permissions of the script to make it executable\n",
    "!chmod +x mini.sh && echo \"Changed permissions of Miniconda installation script\"\n",
    "\n",
    "# Run the script to install Miniconda\n",
    "# -b: run in batch mode (don't prompt for user input)\n",
    "# -f: force installation even if there are existing files\n",
    "# -p /usr/local: specify the installation location\n",
    "!bash ./mini.sh -b -f -p /usr/local > /dev/null 2>&1 && echo \"Installed Miniconda to /usr/local\"\n",
    "\n",
    "# Use conda to install Jupyter\n",
    "# -q: run in quiet mode (reduce output)\n",
    "# -y: assume \"yes\" for all prompts (don't prompt for user input)\n",
    "!conda install -q -y jupyter > /dev/null 2>&1 && echo \"Installed Jupyter notebook\"\n",
    "\n",
    "# Use conda to install the google-colab package from the conda-forge channel\n",
    "!conda install -q -y google-colab -c conda-forge > /dev/null 2>&1 && echo \"Installed google-colab package\"\n",
    "\n",
    "# Install a new IPython kernel for Python 3.8\n",
    "!python -m ipykernel install --name \"py38\" --user > /dev/null 2>&1 && echo \"Installed IPython kernel for Python 3.8\""
   ]
  },
  {
   "cell_type": "markdown",
   "metadata": {},
   "source": [
    "### Check the Python Version"
   ]
  },
  {
   "cell_type": "code",
   "execution_count": null,
   "metadata": {},
   "outputs": [],
   "source": [
    "import sys\n",
    "\n",
    "print(f\"Current Python Version: {sys.version}\")"
   ]
  },
  {
   "cell_type": "markdown",
   "metadata": {},
   "source": [
    "### Install protobuff version 3.20.3"
   ]
  },
  {
   "cell_type": "markdown",
   "metadata": {},
   "source": [
    "---\n",
    "\n",
    "The `requirements.txt` file lists the Python packages that are required for this project. One of these packages is TensorFlow, a popular machine learning library. TensorFlow uses Protocol Buffers (protobuf), a method developed by Google for serializing structured data, for various purposes such as serializing the TensorFlow computation graph.\n",
    "\n",
    "The version of protobuf needs to be compatible with the TensorFlow version you're using. If there's a mismatch between the protobuf version and the TensorFlow version, you might encounter errors or unexpected behavior.\n",
    "\n",
    "In this case, protobuf version 3.20.3 is specified because it's known to be compatible with TensorFlow 2.13.0, which is listed in the `requirements.txt` file. After setting up the Python environment and installing the packages from `requirements.txt`, we install protobuf 3.20.3 to ensure that it's compatible with our TensorFlow version. This is done as a separate step after setting up the environment to make sure that the correct version of protobuf is installed, even if a different version was installed as a dependency of another package.\n",
    "\n",
    "---"
   ]
  },
  {
   "cell_type": "code",
   "execution_count": null,
   "metadata": {},
   "outputs": [],
   "source": [
    "# Install the protobuf version 3.20.3\n",
    "!pip install -q protobuf==3.20.3 && echo \"Installed protobuf version 3.20.3\""
   ]
  },
  {
   "cell_type": "markdown",
   "metadata": {},
   "source": [
    "### Upload the `requirements.txt` file"
   ]
  },
  {
   "cell_type": "code",
   "execution_count": null,
   "metadata": {},
   "outputs": [],
   "source": [
    "# Import the files module from google.colab\n",
    "from google.colab import files\n",
    "\n",
    "# Use the upload method to upload files\n",
    "files.upload()"
   ]
  },
  {
   "cell_type": "markdown",
   "metadata": {},
   "source": [
    "### Install all the dependencies in the `requirements.txt` file"
   ]
  },
  {
   "cell_type": "code",
   "execution_count": null,
   "metadata": {},
   "outputs": [],
   "source": [
    "# Install the dependencies\n",
    "!pip install -q -r requirements.txt && echo \"Installed dependencies\""
   ]
  },
  {
   "cell_type": "markdown",
   "metadata": {},
   "source": [
    "### Test the overall setup"
   ]
  },
  {
   "cell_type": "code",
   "execution_count": null,
   "metadata": {},
   "outputs": [],
   "source": [
    "def test_environment():\n",
    "    import sys\n",
    "\n",
    "    if sys.base_prefix == sys.prefix:\n",
    "        print(\"\\033[91mWarning: You are probably not using a virtual environment on this project.\\033[0m\")\n",
    "    \n",
    "    assert sys.version_info[:2] == (3, 8), \"Expected Python version is 3.8\"\n",
    "    \n",
    "    print(\"\\033[92mYou are currently using Python {}\\033[0m\".format(sys.version))\n",
    "\n",
    "\n",
    "def test_package(package_name, expected_version):\n",
    "    import importlib\n",
    "\n",
    "    package = importlib.import_module(package_name)\n",
    "    current_version = package.__version__\n",
    "\n",
    "    assert current_version == expected_version, \\\n",
    "        \"\\033[91m{} version isn't {}, yours currently is {}\\033[0m\".format(package_name, expected_version, current_version)\n",
    "\n",
    "    print(\"\\033[92m{} version is good\\033[0m\".format(package_name))\n",
    "\n",
    "\n",
    "def test_packages():\n",
    "    packages_to_test = {\n",
    "        'tensorflow': '2.9.0',\n",
    "        'tensorflow_datasets': '4.6.0',\n",
    "        'PIL': '9.1.1',\n",
    "        'pandas': '1.4.2',\n",
    "        'numpy': '1.22.4',\n",
    "        'scipy': '1.7.3'\n",
    "    }\n",
    "\n",
    "    for package_name, expected_version in packages_to_test.items():\n",
    "        test_package(package_name, expected_version)\n",
    "\n",
    "\n",
    "def test_setup():\n",
    "    test_environment()\n",
    "    test_packages()\n",
    "    print(\"\\033[92mSetup complete. You are good to go!\\033[0m\")\n",
    "\n",
    "\n",
    "test_setup()"
   ]
  },
  {
   "cell_type": "markdown",
   "metadata": {},
   "source": [
    "## Start the code for the TensorFlow Developer Certification Exam"
   ]
  },
  {
   "cell_type": "code",
   "execution_count": null,
   "metadata": {},
   "outputs": [],
   "source": [
    "## Notebook originally made by Stefan\n",
    "print(\"Originally made by Stefan (@stefansphtr on GitHub)\")"
   ]
  }
 ],
 "metadata": {
  "language_info": {
   "name": "python"
  }
 },
 "nbformat": 4,
 "nbformat_minor": 2
}
